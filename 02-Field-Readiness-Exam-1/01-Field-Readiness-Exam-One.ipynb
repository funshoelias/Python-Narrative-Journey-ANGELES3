{
 "cells": [
  {
   "cell_type": "markdown",
   "metadata": {},
   "source": [
    "# Field Readiness Exam\n",
    "\n",
    "** Welcome to your first FRE - Field Readiness Exam Recruit! This is where we test your skills to see if you qualify to become a full field agent. Complete the tasks below to the best of your ability. Immediately after this we will go over the solutions and check your performance. **\n",
    "_______"
   ]
  },
  {
   "cell_type": "markdown",
   "metadata": {},
   "source": [
    "### Task 1\n",
    "\n",
    "**Open the exam.txt file with Python and with only read permission and store the contents in a list called exam_lines**"
   ]
  },
  {
   "cell_type": "code",
   "execution_count": 1,
   "metadata": {},
   "outputs": [
    {
     "name": "stdout",
     "output_type": "stream",
     "text": [
      "['Welcome to your First Exam Recruit.\\n', 'Only the best recruits can become agents.\\n', 'Do you have what it takes?\\n', 'We will test your knowledge with this field readiness exam.\\n', 'It should be pretty simple, since you only know the basics so far.\\n', \"Let's get started.\\n\", 'Best of luck recruit.\\n']\n"
     ]
    }
   ],
   "source": [
    "field_variable = open('field.txt', 'r')\n",
    "    # Assign contents of file to a variable:\n",
    "field_lines = field_variable.readlines()\n",
    "    # Convert variable to a list:\n",
    "list(field_lines)\n",
    "    # Print new list variable:\n",
    "print(field_lines)\n",
    "    # Check status of variable:\n",
    "# print(type(field_variable))\n",
    "    # Close file:\n",
    "field_variable.close()"
   ]
  },
  {
   "cell_type": "code",
   "execution_count": 2,
   "metadata": {},
   "outputs": [
    {
     "data": {
      "text/plain": [
       "['Welcome to your First Exam Recruit.\\n',\n",
       " 'Only the best recruits can become agents.\\n',\n",
       " 'Do you have what it takes?\\n',\n",
       " 'We will test your knowledge with this field readiness exam.\\n',\n",
       " 'It should be pretty simple, since you only know the basics so far.\\n',\n",
       " \"Let's get started.\\n\",\n",
       " 'Best of luck recruit.']"
      ]
     },
     "execution_count": 2,
     "metadata": {},
     "output_type": "execute_result"
    }
   ],
   "source": [
    "# Your output should look something like this:\n",
    "['Welcome to your First Exam Recruit.\\n', 'Only the best recruits can become agents.\\n', 'Do you have what it takes?\\n', 'We will test your knowledge with this field readiness exam.\\n', 'It should be pretty simple, since you only know the basics so far.\\n', \"Let's get started.\\n\", 'Best of luck recruit.']"
   ]
  },
  {
   "cell_type": "markdown",
   "metadata": {},
   "source": [
    "### Task 2\n",
    "\n",
    "How many lines does this file have?"
   ]
  },
  {
   "cell_type": "code",
   "execution_count": 3,
   "metadata": {},
   "outputs": [
    {
     "name": "stdout",
     "output_type": "stream",
     "text": [
      "4\n",
      "['Best', 'of', 'luck', 'recruit.']\n"
     ]
    }
   ],
   "source": [
    "with open('field.txt') as field_variable:\n",
    "    # print(field_variable)\n",
    "    for line in field_variable:\n",
    "        num_line_list = line.split() \n",
    "    print(len(num_line_list))   \n",
    "    print(num_line_list)"
   ]
  },
  {
   "cell_type": "code",
   "execution_count": 5,
   "metadata": {},
   "outputs": [
    {
     "name": "stdout",
     "output_type": "stream",
     "text": [
      "7\n"
     ]
    }
   ],
   "source": [
    "with open('field.txt') as exam_variable:\n",
    "    exam_variable = exam_variable.readlines()\n",
    "    for line in exam_variable:\n",
    "        line.split()\n",
    "        # print(line)\n",
    "        length_var = len(exam_variable)\n",
    "    print(length_var)"
   ]
  },
  {
   "cell_type": "code",
   "execution_count": null,
   "metadata": {},
   "outputs": [],
   "source": []
  },
  {
   "cell_type": "code",
   "execution_count": 2,
   "metadata": {},
   "outputs": [
    {
     "data": {
      "text/plain": [
       "7"
      ]
     },
     "execution_count": 2,
     "metadata": {},
     "output_type": "execute_result"
    }
   ],
   "source": [
    "# Your output should look something like this:"
   ]
  },
  {
   "cell_type": "markdown",
   "metadata": {},
   "source": [
    "### Task 3\n",
    "\n",
    "Print out the 5th line of the text file."
   ]
  },
  {
   "cell_type": "code",
   "execution_count": 7,
   "metadata": {},
   "outputs": [
    {
     "name": "stdout",
     "output_type": "stream",
     "text": [
      "['Welcome', 'to', 'your', 'First', 'Exam', 'Recruit.']\n",
      "['Only', 'the', 'best', 'recruits', 'can', 'become', 'agents.']\n",
      "['Do', 'you', 'have', 'what', 'it', 'takes?']\n",
      "['We', 'will', 'test', 'your', 'knowledge', 'with', 'this', 'field', 'readiness', 'exam.']\n",
      "['It', 'should', 'be', 'pretty', 'simple,', 'since', 'you', 'only', 'know', 'the', 'basics', 'so', 'far.']\n",
      "[\"Let's\", 'get', 'started.']\n",
      "['Best', 'of', 'luck', 'recruit.']\n",
      "It should be pretty simple, since you only know the basics so far.\n",
      "\n"
     ]
    }
   ],
   "source": [
    "# Opening the file as a variable\n",
    "with open('field.txt') as field_variable:\n",
    "    # Reading the file:\n",
    "    field_variable = field_variable.readlines()\n",
    "    # Turning it into a list:\n",
    "    list(field_variable)\n",
    "    # Splitting each line in the list:\n",
    "    for i in field_variable:\n",
    "        print(i.split())\n",
    "    # Printing third line from the bottom by reverse slicing:\n",
    "    print(field_variable[-3])"
   ]
  },
  {
   "cell_type": "code",
   "execution_count": 60,
   "metadata": {},
   "outputs": [
    {
     "data": {
      "text/plain": [
       "'It should be pretty simple, since you only know the basics so far.'"
      ]
     },
     "execution_count": 60,
     "metadata": {},
     "output_type": "execute_result"
    }
   ],
   "source": [
    "# Your output should look something like this:\n",
    "\"It should be pretty simple, since you only know the basics so far.\""
   ]
  },
  {
   "cell_type": "code",
   "execution_count": 9,
   "metadata": {},
   "outputs": [
    {
     "name": "stdout",
     "output_type": "stream",
     "text": [
      "It should be pretty simple, since you only know the basics so far.\n",
      "\n"
     ]
    }
   ],
   "source": [
    "# Opening the file as a variable\n",
    "with open('field.txt') as field_variable:\n",
    "    field_variable = field_variable.readlines()\n",
    "    list(field_variable)\n",
    "    for i in field_variable:\n",
    "        i.split() # remove print function\n",
    "    print(field_variable[-3])"
   ]
  },
  {
   "cell_type": "markdown",
   "metadata": {},
   "source": [
    "### Task 4\n",
    "\n",
    "Grab the last line of the text file and save it to a variable called last."
   ]
  },
  {
   "cell_type": "code",
   "execution_count": 71,
   "metadata": {},
   "outputs": [
    {
     "name": "stdout",
     "output_type": "stream",
     "text": [
      "Best of luck recruit.\n",
      "\n"
     ]
    }
   ],
   "source": [
    "# Opening the file as a variable\n",
    "with open('field.txt') as field_variable:\n",
    "    # Reading the file:\n",
    "    field_variable = field_variable.readlines()\n",
    "    # Turning it into a list:\n",
    "    list(field_variable)\n",
    "    # Splitting each line in the list:\n",
    "    # for i in field_variable:\n",
    "      #  i.split()\n",
    "    # Printing third line from the bottom by reverse slicing:\n",
    "    last = field_variable[-1]\n",
    "    print(last)"
   ]
  },
  {
   "cell_type": "code",
   "execution_count": 70,
   "metadata": {},
   "outputs": [
    {
     "data": {
      "text/plain": [
       "'Best of luck recruit.'"
      ]
     },
     "execution_count": 70,
     "metadata": {},
     "output_type": "execute_result"
    }
   ],
   "source": [
    "# Your output should look something like this:\n",
    "'Best of luck recruit.'"
   ]
  },
  {
   "cell_type": "markdown",
   "metadata": {},
   "source": [
    "### Task 5\n",
    "\n",
    "Use indexing to grab the letter 'o' from the last line of the file."
   ]
  },
  {
   "cell_type": "code",
   "execution_count": 10,
   "metadata": {},
   "outputs": [
    {
     "name": "stdout",
     "output_type": "stream",
     "text": [
      "o\n"
     ]
    }
   ],
   "source": [
    "# Opening the file as a variable\n",
    "with open('field.txt') as field_variable:\n",
    "    # Reading the file:\n",
    "    field_variable = field_variable.readlines()\n",
    "    # Turning it into a list:\n",
    "    list(field_variable)\n",
    "    # Splitting each line in the list:\n",
    "    for i in field_variable:\n",
    "        i.split()\n",
    "    # Assigning the last line from the bottom by reverse slicing to a variable called, last:\n",
    "    last = field_variable[-1]\n",
    "    # Indexing the 5th character in the last line:\n",
    "    print(last[5])"
   ]
  },
  {
   "cell_type": "code",
   "execution_count": 11,
   "metadata": {},
   "outputs": [
    {
     "data": {
      "text/plain": [
       "'o'"
      ]
     },
     "execution_count": 11,
     "metadata": {},
     "output_type": "execute_result"
    }
   ],
   "source": [
    "# Your output should look something like this:\n",
    "'o'"
   ]
  },
  {
   "cell_type": "markdown",
   "metadata": {},
   "source": [
    "### Task 6\n",
    "\n",
    "How could you use Python to count how many words there are in the last line?"
   ]
  },
  {
   "cell_type": "code",
   "execution_count": 32,
   "metadata": {},
   "outputs": [
    {
     "ename": "TypeError",
     "evalue": "must be str, not list",
     "output_type": "error",
     "traceback": [
      "\u001b[0;31m---------------------------------------------------------------------------\u001b[0m",
      "\u001b[0;31mTypeError\u001b[0m                                 Traceback (most recent call last)",
      "\u001b[0;32m<ipython-input-32-e1c561bd9e1b>\u001b[0m in \u001b[0;36m<module>\u001b[0;34m\u001b[0m\n\u001b[1;32m      7\u001b[0m     \u001b[0;32mfor\u001b[0m \u001b[0mn\u001b[0m \u001b[0;32min\u001b[0m \u001b[0mlast\u001b[0m\u001b[0;34m:\u001b[0m \u001b[0;31m# Loop through last line\u001b[0m\u001b[0;34m\u001b[0m\u001b[0;34m\u001b[0m\u001b[0m\n\u001b[1;32m      8\u001b[0m         \u001b[0mnum_chars\u001b[0m \u001b[0;34m=\u001b[0m \u001b[0mlast\u001b[0m\u001b[0;34m.\u001b[0m\u001b[0msplit\u001b[0m\u001b[0;34m(\u001b[0m\u001b[0mn\u001b[0m\u001b[0;34m)\u001b[0m \u001b[0;31m# Split last variable, assign to new variable, num_chars\u001b[0m\u001b[0;34m\u001b[0m\u001b[0;34m\u001b[0m\u001b[0m\n\u001b[0;32m----> 9\u001b[0;31m         \u001b[0mresult\u001b[0m \u001b[0;34m=\u001b[0m \u001b[0mlast\u001b[0m\u001b[0;34m.\u001b[0m\u001b[0mcount\u001b[0m\u001b[0;34m(\u001b[0m\u001b[0mnum_chars\u001b[0m\u001b[0;34m)\u001b[0m \u001b[0;31m# Now count number of list items\u001b[0m\u001b[0;34m\u001b[0m\u001b[0;34m\u001b[0m\u001b[0m\n\u001b[0m\u001b[1;32m     10\u001b[0m         \u001b[0mprint\u001b[0m\u001b[0;34m(\u001b[0m\u001b[0mresult\u001b[0m\u001b[0;34m)\u001b[0m     \u001b[0;31m# Print final_chars\u001b[0m\u001b[0;34m\u001b[0m\u001b[0;34m\u001b[0m\u001b[0m\n",
      "\u001b[0;31mTypeError\u001b[0m: must be str, not list"
     ]
    }
   ],
   "source": [
    "with open('field.txt') as field_variable: # Opening the file as a variable\n",
    "    field_variable = field_variable.readlines() # Reading the file\n",
    "    list(field_variable) # Turning file contents into a list\n",
    "    for i in field_variable: # Splitting each line in the list\n",
    "        i.split()\n",
    "    last = field_variable[-1] # Assigning the last line from the bottom by reverse slicing to a variable called, last\n",
    "    for n in last: # Loop through last line\n",
    "        num_chars = last.split(n) # Split last variable, assign to new variable, num_chars\n",
    "        result = last.count(num_chars) # Now count number of list items\n",
    "        print(result)     # Print final_chars"
   ]
  },
  {
   "cell_type": "code",
   "execution_count": 14,
   "metadata": {},
   "outputs": [],
   "source": [
    "# Your output should look something like this:"
   ]
  },
  {
   "cell_type": "markdown",
   "metadata": {},
   "source": [
    "### Task 7\n",
    "\n",
    "What data types are returned by the following lines of code:\n",
    "\n",
    "    1.)  2/3\n",
    "    2.)  2 + 2.0\n",
    "    3.)  1 + 1\n",
    "    4.)  \"2\" + \"2\"\n",
    "    5.)  1 > 2\n",
    "    \n",
    "Try to do these in your head before checking by running the code in python."
   ]
  },
  {
   "cell_type": "code",
   "execution_count": 39,
   "metadata": {},
   "outputs": [],
   "source": [
    "# No need to write down your answers, just use this cell to self check is necessary."
   ]
  },
  {
   "cell_type": "markdown",
   "metadata": {},
   "source": [
    "### Task 8\n",
    "\n",
    "Let's check how well you understand indexing and key calls. Here we present to you a set of dictionaries and lists that are nested inside a single dictionary **d**. While this is an unrealistic representation of how you would use these data types in the field, this is just for practice:"
   ]
  },
  {
   "cell_type": "code",
   "execution_count": 2,
   "metadata": {},
   "outputs": [],
   "source": [
    "d = {\"levelone\":[1,2,{'leveltwo':[5,6,[1,['get me please']]]}]}"
   ]
  },
  {
   "cell_type": "markdown",
   "metadata": {},
   "source": [
    "Your task is to retrieve the string \"get me please\" from the dictionary with stacked index and key calls.\n",
    "\n",
    "Hint: Approach this step by step, slowly adding on more and more index calls. Recall that you can use .keys() to figure out what keys are in a  dictionary."
   ]
  },
  {
   "cell_type": "code",
   "execution_count": 3,
   "metadata": {},
   "outputs": [
    {
     "name": "stdout",
     "output_type": "stream",
     "text": [
      "get me please\n"
     ]
    }
   ],
   "source": [
    "print(d['levelone'][2]['leveltwo'][2][1][0])"
   ]
  },
  {
   "cell_type": "code",
   "execution_count": 41,
   "metadata": {},
   "outputs": [],
   "source": [
    "# Your output should look something like this:"
   ]
  },
  {
   "cell_type": "markdown",
   "metadata": {},
   "source": [
    "### Bonus Task\n",
    "\n",
    "How many unique integers are in this list? (You will need to use a casting method we haven't shown you yet)"
   ]
  },
  {
   "cell_type": "code",
   "execution_count": 1,
   "metadata": {},
   "outputs": [],
   "source": [
    "mylist = [1,2,3,4,5,6,4,3,2,1,2,3,4,5,6,6,7,8,5,6,7,8,9,8,9,8,9,7,10,123,1,2,2,3,1,3,2,4,1,4,4,1,2,2,22,3,4,1,4,1]"
   ]
  },
  {
   "cell_type": "markdown",
   "metadata": {},
   "source": [
    "### Daniel's attempt:"
   ]
  },
  {
   "cell_type": "code",
   "execution_count": 5,
   "metadata": {},
   "outputs": [
    {
     "name": "stdout",
     "output_type": "stream",
     "text": [
      "12\n"
     ]
    }
   ],
   "source": [
    "variabl23 = set(mylist)\n",
    "print(len(variabl23))"
   ]
  },
  {
   "cell_type": "markdown",
   "metadata": {},
   "source": [
    "### Success!"
   ]
  },
  {
   "cell_type": "code",
   "execution_count": 43,
   "metadata": {},
   "outputs": [],
   "source": [
    "# Your output should look something like this:"
   ]
  },
  {
   "cell_type": "markdown",
   "metadata": {},
   "source": [
    "Excellent work recruit, now that you are done with the basics of data types and storage with Python, let's move on to learning about control flow with Python."
   ]
  }
 ],
 "metadata": {
  "kernelspec": {
   "display_name": "Python 3",
   "language": "python",
   "name": "python3"
  },
  "language_info": {
   "codemirror_mode": {
    "name": "ipython",
    "version": 3
   },
   "file_extension": ".py",
   "mimetype": "text/x-python",
   "name": "python",
   "nbconvert_exporter": "python",
   "pygments_lexer": "ipython3",
   "version": "3.7.3"
  }
 },
 "nbformat": 4,
 "nbformat_minor": 2
}
