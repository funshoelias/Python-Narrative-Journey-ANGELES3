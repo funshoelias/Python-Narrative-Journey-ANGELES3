{
 "cells": [
  {
   "cell_type": "markdown",
   "metadata": {},
   "source": [
    "# Hacking Incident\n",
    "\n",
    "We're being hacked recruit! We need your help to get a message to the main server.\n",
    "\n",
    "We need you to accomplish 3 tasks:\n",
    "\n",
    "1. Create a Caeser cipher encryption function.\n",
    "2. Create another function that decrypts a Caeser cipher message.\n",
    "3. Create a function that will brute force every possible output for an encrypted Caeser cipher.\n",
    "\n",
    "We've set up a framework for you to follow here in this notebook. Feel free to use it, or create your own base functions."
   ]
  },
  {
   "cell_type": "markdown",
   "metadata": {},
   "source": [
    "## Encryption Function\n",
    "\n",
    "This function should take in two parameters, the plain text message and the shift number for the Caeser cipher.\n",
    "\n",
    "To create the cipher you will need to create a list of the alphabet. You can either write out the alphabet manually, or use the [string library](https://docs.python.org/3/library/string.html?highlight=string#module-string) to get all the lowercase alphabet. You will first need to run *import string* , and then call the attribute. For example:\n",
    "\n",
    "    import string\n",
    "    alphabet = string.ascii_lowercase\n",
    "    print(alphabet)\n",
    "    print(list(alphabet))\n",
    "    \n",
    "An empty function with some comments is here below for you to fill out:"
   ]
  },
  {
   "cell_type": "code",
   "execution_count": 1,
   "metadata": {
    "collapsed": true
   },
   "outputs": [],
   "source": [
    "def encrypt(text,shift):\n",
    "    '''\n",
    "    INPUT: text as a string and an integer for the shift value.\n",
    "    OUTPUT: The shifted text after being run through the Caeser cipher.\n",
    "    '''\n",
    "    \n",
    "    # Create a normal plain alphabet\n",
    "    \n",
    "    # Create a shifted version of this alphabet \n",
    "    # (Try slicing using the shift and then reconcatenating the two parts)\n",
    "    \n",
    "    # Use a for loop to go through each character in the original message.\n",
    "    # Then figure out its index match in the shifted alphabet and replace.\n",
    "    # It might be helpful to create an output variable to hold the new message.\n",
    "    \n",
    "    # Keep in mind you may want to skip punctuation with an if statement.\n",
    "    \n",
    "    # Return the shifted message. Use ''.join() method \n",
    "    # if you still have it as a list.\n",
    "            \n",
    "    pass"
   ]
  },
  {
   "cell_type": "markdown",
   "metadata": {},
   "source": [
    "## Daniel's first attempt:"
   ]
  },
  {
   "cell_type": "code",
   "execution_count": 20,
   "metadata": {},
   "outputs": [],
   "source": [
    "import string\n",
    "\n",
    "def encrypt(text,shift):\n",
    "    '''\n",
    "    INPUT: text as a string and an integer for the shift value.\n",
    "    OUTPUT: The shifted text after being run through the Caeser cipher.\n",
    "    '''\n",
    "    text = None\n",
    "  \n",
    "    alphabet = string.ascii_lowercase\n",
    "    print(alphabet)\n",
    "    alphabet = alphabet.split()\n",
    "    alphabet_shifted = alphabet.append(alphabet.pop(shift))\n",
    "    print(alphabet_shifted)    \n",
    "            \n",
    "    pass"
   ]
  },
  {
   "cell_type": "code",
   "execution_count": 21,
   "metadata": {},
   "outputs": [
    {
     "name": "stdout",
     "output_type": "stream",
     "text": [
      "abcdefghijklmnopqrstuvwxyz\n",
      "None\n"
     ]
    }
   ],
   "source": [
    "encrypt(None,2)"
   ]
  },
  {
   "cell_type": "markdown",
   "metadata": {},
   "source": [
    "## Daniel's second attempt at shifting strin to list elements:"
   ]
  },
  {
   "cell_type": "code",
   "execution_count": 34,
   "metadata": {},
   "outputs": [],
   "source": [
    "import string\n",
    "\n",
    "def encrypt(text,shift):\n",
    "    '''\n",
    "    INPUT: text as a string and an integer for the shift value.\n",
    "    OUTPUT: The shifted text after being run through the Caeser cipher.\n",
    "    '''\n",
    "    # text = None\n",
    "    \n",
    "    # Create a normal plain alphabet\n",
    "    # alphab = 'abcdefghijklmnopqrstuvwxyz'\n",
    "    \n",
    "    # Create a shifted version of this alphabet \n",
    "    # (Try slicing using the shift and then reconcatenating the two parts)\n",
    "    # print(alphab.split())\n",
    "    # print(alphab)\n",
    "    \n",
    "    # Use a for loop to go through each character in the original message.\n",
    "    # Then figure out its index match in the shifted alphabet and replace.\n",
    "    # It might be helpful to create an output variable to hold the new message.\n",
    "    \n",
    "    # Keep in mind you may want to skip punctuation with an if statement.\n",
    "    \n",
    "    # Return the shifted message. Use ''.join() method \n",
    "    # if you still have it as a list.\n",
    "\n",
    "    alphab = string.ascii_lowercase\n",
    "    print(alphab)    \n",
    "    alphab = list(alphab)\n",
    "    print(alphab)\n",
    "    alphab = alphab.append(alphab.pop(shift))\n",
    "    print(alphab)\n",
    "    \n",
    "    pass"
   ]
  },
  {
   "cell_type": "code",
   "execution_count": 35,
   "metadata": {},
   "outputs": [
    {
     "name": "stdout",
     "output_type": "stream",
     "text": [
      "abcdefghijklmnopqrstuvwxyz\n",
      "['a', 'b', 'c', 'd', 'e', 'f', 'g', 'h', 'i', 'j', 'k', 'l', 'm', 'n', 'o', 'p', 'q', 'r', 's', 't', 'u', 'v', 'w', 'x', 'y', 'z']\n",
      "None\n"
     ]
    }
   ],
   "source": [
    "encrypt(None,13)"
   ]
  },
  {
   "cell_type": "markdown",
   "metadata": {},
   "source": [
    "## Daniel's third attempt based on this SO question  (https://stackoverflow.com/questions/2150108/efficient-way-to-shift-a-list-in-python/44901770#44901770 ):"
   ]
  },
  {
   "cell_type": "code",
   "execution_count": 32,
   "metadata": {},
   "outputs": [],
   "source": [
    "from collections import deque\n",
    "import string\n",
    "\n",
    "def encrypt(text,shift):\n",
    "    '''\n",
    "    INPUT: text as a string and an integer for the shift value.\n",
    "    OUTPUT: The shifted text after being run through the Caesar cipher.\n",
    "    ''' \n",
    "    original_alphabet = string.ascii_lowercase # Initializing alphabet variable\n",
    "    print(original_alphabet, 1) \n",
    "    original_alphabet = deque(list(original_alphabet)) # Turning alphabet into a list\n",
    "    shifted_alphabet = original_alphabet \n",
    "    shifted_alphabet.rotate(shift) # Rotating new shifted alphabet\n",
    "    original_alphabet = ''.join(original_alphabet) # Re-concatenating split list (alphabet)\n",
    "    shifted_alphabet = ''.join(shifted_alphabet) # Re-concatenating split list (shifted alphabet)\n",
    "    print(original_alphabet, 2)\n",
    "    print(shifted_alphabet, 3)\n",
    "    pass"
   ]
  },
  {
   "cell_type": "code",
   "execution_count": 33,
   "metadata": {
    "scrolled": false
   },
   "outputs": [
    {
     "name": "stdout",
     "output_type": "stream",
     "text": [
      "abcdefghijklmnopqrstuvwxyz 1\n",
      "xyzabcdefghijklmnopqrstuvw 2\n",
      "xyzabcdefghijklmnopqrstuvw 3\n"
     ]
    }
   ],
   "source": [
    "encrypt(None,3)"
   ]
  },
  {
   "cell_type": "markdown",
   "metadata": {},
   "source": [
    "## Courtesy of knackwurstbagel in my Caesar cipher forum thread:"
   ]
  },
  {
   "cell_type": "code",
   "execution_count": 1,
   "metadata": {},
   "outputs": [
    {
     "name": "stdout",
     "output_type": "stream",
     "text": [
      "True\n"
     ]
    }
   ],
   "source": [
    "from collections import deque\n",
    "import string\n",
    " \n",
    "def encrypt(text,shift):\n",
    "    alphab = string.ascii_lowercase\n",
    "    org = deque(list(alphab))\n",
    "    shifted = org\n",
    "    shifted.rotate(shift)\n",
    "    print(shifted is org)\n",
    " \n",
    "encrypt('test', 3)"
   ]
  },
  {
   "cell_type": "markdown",
   "metadata": {},
   "source": [
    "## My most recent approach with help from SO: https://stackoverflow.com/questions/2612802/how-to-clone-or-copy-a-list\n"
   ]
  },
  {
   "cell_type": "code",
   "execution_count": 27,
   "metadata": {},
   "outputs": [],
   "source": [
    "from collections import deque\n",
    "import string\n",
    "import copy\n",
    "\n",
    "def encrypt(text,shift_variance):\n",
    "    '''\n",
    "    INPUT: text as a string and an integer for the shift value.\n",
    "    OUTPUT: The shifted text after being run through the Caesar cipher.\n",
    "    ''' \n",
    "    original = string.ascii_lowercase # Initializing alphabet variable\n",
    "    print(original, 1) \n",
    "    original = deque(list(original)) # Turning the original alphabet into a list\n",
    "    shifted = original.copy() # Assigning new variable to copy of original alphabet\n",
    "    shifted.rotate(shift_variance) # Rotating new shifted alphabet \n",
    "    original = ''.join(original) # Re-concatenating split list (alphabet)\n",
    "    shifted = ''.join(shifted) # Re-concatenating split list (shifted alphabet)\n",
    "    print(original, 2)\n",
    "    print(shifted, 3)\n",
    "    pass"
   ]
  },
  {
   "cell_type": "code",
   "execution_count": 28,
   "metadata": {},
   "outputs": [
    {
     "name": "stdout",
     "output_type": "stream",
     "text": [
      "abcdefghijklmnopqrstuvwxyz 1\n",
      "abcdefghijklmnopqrstuvwxyz 2\n",
      "xyzabcdefghijklmnopqrstuvw 3\n"
     ]
    }
   ],
   "source": [
    "encrypt(None,3)"
   ]
  },
  {
   "cell_type": "markdown",
   "metadata": {},
   "source": [
    "# Now tackling the for loop aspect:"
   ]
  },
  {
   "cell_type": "code",
   "execution_count": 28,
   "metadata": {},
   "outputs": [],
   "source": [
    "from collections import deque\n",
    "import string\n",
    "import copy\n",
    "\n",
    "def encrypt(text,shift_variance):\n",
    "    '''\n",
    "    INPUT: text as a string and an integer for the shift value.\n",
    "    OUTPUT: The shifted text after being run through the Caesar cipher.\n",
    "    ''' \n",
    "    original = string.ascii_lowercase # Initializing alphabet variable\n",
    "    original = deque(list(original)) # Turning the original alphabet into a list\n",
    "    shifted = original.copy() # Assigning new variable to copy of original alphabet\n",
    "    shifted.rotate(shift_variance) # Rotating new shifted alphabet \n",
    "\n",
    "    # BEGIN for loop:\n",
    "    text = list(text) # Convert text to string\n",
    "    print(text) # Confirmation of conversion operation\n",
    "    scrambled_text =[] # Initializing output variable \n",
    "    for index in text:\n",
    "        for variable, char in enumerate(shifted):\n",
    "            variable[char] = scrambled_text        \n",
    "    pass"
   ]
  },
  {
   "cell_type": "code",
   "execution_count": 29,
   "metadata": {},
   "outputs": [
    {
     "name": "stdout",
     "output_type": "stream",
     "text": [
      "['H', 'e', 'l', 'l', 'o', ' ', 'W', 'o', 'r', 'l', 'd']\n"
     ]
    },
    {
     "ename": "TypeError",
     "evalue": "'int' object does not support item assignment",
     "output_type": "error",
     "traceback": [
      "\u001b[0;31m---------------------------------------------------------------------------\u001b[0m",
      "\u001b[0;31mTypeError\u001b[0m                                 Traceback (most recent call last)",
      "\u001b[0;32m<ipython-input-29-83dd904990e0>\u001b[0m in \u001b[0;36m<module>\u001b[0;34m()\u001b[0m\n\u001b[0;32m----> 1\u001b[0;31m \u001b[0mencrypt\u001b[0m\u001b[0;34m(\u001b[0m\u001b[0;34m\"Hello World\"\u001b[0m\u001b[0;34m,\u001b[0m\u001b[0;36m3\u001b[0m\u001b[0;34m)\u001b[0m\u001b[0;34m\u001b[0m\u001b[0;34m\u001b[0m\u001b[0m\n\u001b[0m",
      "\u001b[0;32m<ipython-input-28-57c329f5c656>\u001b[0m in \u001b[0;36mencrypt\u001b[0;34m(text, shift_variance)\u001b[0m\n\u001b[1;32m     20\u001b[0m     \u001b[0;32mfor\u001b[0m \u001b[0mindex\u001b[0m \u001b[0;32min\u001b[0m \u001b[0mtext\u001b[0m\u001b[0;34m:\u001b[0m\u001b[0;34m\u001b[0m\u001b[0;34m\u001b[0m\u001b[0m\n\u001b[1;32m     21\u001b[0m         \u001b[0;32mfor\u001b[0m \u001b[0mvariable\u001b[0m\u001b[0;34m,\u001b[0m \u001b[0mchar\u001b[0m \u001b[0;32min\u001b[0m \u001b[0menumerate\u001b[0m\u001b[0;34m(\u001b[0m\u001b[0mshifted\u001b[0m\u001b[0;34m)\u001b[0m\u001b[0;34m:\u001b[0m\u001b[0;34m\u001b[0m\u001b[0;34m\u001b[0m\u001b[0m\n\u001b[0;32m---> 22\u001b[0;31m             \u001b[0mvariable\u001b[0m\u001b[0;34m[\u001b[0m\u001b[0mchar\u001b[0m\u001b[0;34m]\u001b[0m \u001b[0;34m=\u001b[0m \u001b[0mscrambled_text\u001b[0m\u001b[0;34m\u001b[0m\u001b[0;34m\u001b[0m\u001b[0m\n\u001b[0m\u001b[1;32m     23\u001b[0m     \u001b[0;32mpass\u001b[0m\u001b[0;34m\u001b[0m\u001b[0;34m\u001b[0m\u001b[0m\n",
      "\u001b[0;31mTypeError\u001b[0m: 'int' object does not support item assignment"
     ]
    }
   ],
   "source": [
    "encrypt(\"Hello World\",3)"
   ]
  },
  {
   "cell_type": "markdown",
   "metadata": {},
   "source": [
    "# Daniel's fresh attempt with help from @nilamo on python-forum.io    "
   ]
  },
  {
   "cell_type": "code",
   "execution_count": 4,
   "metadata": {},
   "outputs": [
    {
     "name": "stdout",
     "output_type": "stream",
     "text": [
      "0\n",
      "1\n",
      "2\n",
      "3\n",
      "4\n",
      "5\n",
      "6\n",
      "7\n",
      "8\n",
      "9\n",
      "10\n"
     ]
    }
   ],
   "source": [
    "text = 'hello world'\n",
    "for index, character in enumerate(text):\n",
    "\tz = index\n",
    "\tprint(z)\n"
   ]
  },
  {
   "cell_type": "code",
   "execution_count": 8,
   "metadata": {},
   "outputs": [
    {
     "ename": "TypeError",
     "evalue": "'str' object does not support item assignment",
     "output_type": "error",
     "traceback": [
      "\u001b[0;31m---------------------------------------------------------------------------\u001b[0m",
      "\u001b[0;31mTypeError\u001b[0m                                 Traceback (most recent call last)",
      "\u001b[0;32m<ipython-input-8-815308fbe601>\u001b[0m in \u001b[0;36m<module>\u001b[0;34m()\u001b[0m\n\u001b[1;32m      1\u001b[0m \u001b[0mtext\u001b[0m \u001b[0;34m=\u001b[0m \u001b[0;34m'hello world'\u001b[0m\u001b[0;34m\u001b[0m\u001b[0;34m\u001b[0m\u001b[0m\n\u001b[1;32m      2\u001b[0m \u001b[0;32mfor\u001b[0m \u001b[0mindex\u001b[0m\u001b[0;34m,\u001b[0m \u001b[0mcharacter\u001b[0m \u001b[0;32min\u001b[0m \u001b[0menumerate\u001b[0m\u001b[0;34m(\u001b[0m\u001b[0mtext\u001b[0m\u001b[0;34m)\u001b[0m\u001b[0;34m:\u001b[0m\u001b[0;34m\u001b[0m\u001b[0;34m\u001b[0m\u001b[0m\n\u001b[0;32m----> 3\u001b[0;31m         \u001b[0mcharacter\u001b[0m\u001b[0;34m[\u001b[0m\u001b[0mindex\u001b[0m\u001b[0;34m]\u001b[0m \u001b[0;34m=\u001b[0m \u001b[0mcharacter\u001b[0m \u001b[0;31m# in shifted_alphabet # Which is why here I need another loop, right?\u001b[0m\u001b[0;34m\u001b[0m\u001b[0;34m\u001b[0m\u001b[0m\n\u001b[0m\u001b[1;32m      4\u001b[0m         \u001b[0mprint\u001b[0m\u001b[0;34m(\u001b[0m\u001b[0mletter\u001b[0m\u001b[0;34m)\u001b[0m\u001b[0;34m\u001b[0m\u001b[0;34m\u001b[0m\u001b[0m\n",
      "\u001b[0;31mTypeError\u001b[0m: 'str' object does not support item assignment"
     ]
    }
   ],
   "source": [
    "text = 'hello world'\n",
    "for index, character in enumerate(text):\n",
    "\tcharacter[index] = character # in shifted_alphabet # Which is why here I need another loop, right?\n",
    "\tprint(letter)"
   ]
  },
  {
   "cell_type": "code",
   "execution_count": 12,
   "metadata": {},
   "outputs": [
    {
     "ename": "NameError",
     "evalue": "name 'shifted' is not defined",
     "output_type": "error",
     "traceback": [
      "\u001b[0;31m---------------------------------------------------------------------------\u001b[0m",
      "\u001b[0;31mNameError\u001b[0m                                 Traceback (most recent call last)",
      "\u001b[0;32m<ipython-input-12-a2478d97ee15>\u001b[0m in \u001b[0;36m<module>\u001b[0;34m()\u001b[0m\n\u001b[1;32m     14\u001b[0m \u001b[0;34m\u001b[0m\u001b[0m\n\u001b[1;32m     15\u001b[0m \u001b[0;32mfor\u001b[0m \u001b[0mindex\u001b[0m\u001b[0;34m,\u001b[0m \u001b[0mcharacter\u001b[0m \u001b[0;32min\u001b[0m \u001b[0menumerate\u001b[0m\u001b[0;34m(\u001b[0m\u001b[0mtext\u001b[0m\u001b[0;34m)\u001b[0m\u001b[0;34m:\u001b[0m\u001b[0;34m\u001b[0m\u001b[0;34m\u001b[0m\u001b[0m\n\u001b[0;32m---> 16\u001b[0;31m     \u001b[0mletter\u001b[0m\u001b[0;34m[\u001b[0m\u001b[0mindex\u001b[0m\u001b[0;34m]\u001b[0m \u001b[0;34m=\u001b[0m \u001b[0mshifted\u001b[0m\u001b[0;34m[\u001b[0m\u001b[0mcharacter\u001b[0m\u001b[0;34m]\u001b[0m\u001b[0;34m\u001b[0m\u001b[0;34m\u001b[0m\u001b[0m\n\u001b[0m\u001b[1;32m     17\u001b[0m     \u001b[0mprint\u001b[0m\u001b[0;34m(\u001b[0m\u001b[0mletter\u001b[0m\u001b[0;34m)\u001b[0m\u001b[0;34m\u001b[0m\u001b[0;34m\u001b[0m\u001b[0m\n",
      "\u001b[0;31mNameError\u001b[0m: name 'shifted' is not defined"
     ]
    }
   ],
   "source": [
    "from collections import deque\n",
    "import string\n",
    "import copy\n",
    "\n",
    "def encrypt(text,shift_variance):\n",
    "    '''\n",
    "    INPUT: text as a string and an integer for the shift value.\n",
    "    OUTPUT: The shifted text after being run through the Caesar cipher.\n",
    "    ''' \n",
    "    original = string.ascii_lowercase # Initializing alphabet variable\n",
    "    original = deque(list(original)) # Turning the original alphabet into a list\n",
    "    shifted = original.copy() # Assigning new variable to copy of original alphabet\n",
    "    shifted.rotate(shift_variance) # Rotating new shifted alphabet \n",
    "\n",
    "for index, character in enumerate(text):\n",
    "    letter[index] = shifted[character]\n",
    "    print(letter)"
   ]
  },
  {
   "cell_type": "code",
   "execution_count": 15,
   "metadata": {},
   "outputs": [
    {
     "name": "stdout",
     "output_type": "stream",
     "text": [
      "h\n"
     ]
    },
    {
     "ename": "IndexError",
     "evalue": "string index out of range",
     "output_type": "error",
     "traceback": [
      "\u001b[0;31m---------------------------------------------------------------------------\u001b[0m",
      "\u001b[0;31mIndexError\u001b[0m                                Traceback (most recent call last)",
      "\u001b[0;32m<ipython-input-15-670cba6d3ed1>\u001b[0m in \u001b[0;36m<module>\u001b[0;34m()\u001b[0m\n\u001b[1;32m      1\u001b[0m \u001b[0mtext\u001b[0m \u001b[0;34m=\u001b[0m \u001b[0;34m'hello world'\u001b[0m\u001b[0;34m\u001b[0m\u001b[0;34m\u001b[0m\u001b[0m\n\u001b[1;32m      2\u001b[0m \u001b[0;32mfor\u001b[0m \u001b[0mindex\u001b[0m\u001b[0;34m,\u001b[0m \u001b[0mcharacter\u001b[0m \u001b[0;32min\u001b[0m \u001b[0menumerate\u001b[0m\u001b[0;34m(\u001b[0m\u001b[0mtext\u001b[0m\u001b[0;34m)\u001b[0m\u001b[0;34m:\u001b[0m\u001b[0;34m\u001b[0m\u001b[0;34m\u001b[0m\u001b[0m\n\u001b[0;32m----> 3\u001b[0;31m         \u001b[0mscrambled_text\u001b[0m \u001b[0;34m=\u001b[0m \u001b[0mcharacter\u001b[0m\u001b[0;34m[\u001b[0m\u001b[0mindex\u001b[0m\u001b[0;34m]\u001b[0m\u001b[0;34m\u001b[0m\u001b[0;34m\u001b[0m\u001b[0m\n\u001b[0m\u001b[1;32m      4\u001b[0m         \u001b[0mprint\u001b[0m\u001b[0;34m(\u001b[0m\u001b[0mscrambled_text\u001b[0m\u001b[0;34m)\u001b[0m\u001b[0;34m\u001b[0m\u001b[0;34m\u001b[0m\u001b[0m\n",
      "\u001b[0;31mIndexError\u001b[0m: string index out of range"
     ]
    }
   ],
   "source": [
    "text = 'hello world'\n",
    "for index, character in enumerate(text):\n",
    "\tscrambled_text = character[index]\n",
    "\tprint(scrambled_text)"
   ]
  },
  {
   "cell_type": "code",
   "execution_count": 2,
   "metadata": {},
   "outputs": [
    {
     "name": "stdout",
     "output_type": "stream",
     "text": [
      "0 => h\n",
      "1 => e\n",
      "2 => l\n",
      "3 => l\n",
      "4 => o\n",
      "5 =>  \n",
      "6 => w\n",
      "7 => o\n",
      "8 => r\n",
      "9 => l\n",
      "10 => d\n"
     ]
    }
   ],
   "source": [
    "for index, value in enumerate(\"hello world\"):\n",
    "    print(f\"{index} => {value}\")"
   ]
  },
  {
   "cell_type": "code",
   "execution_count": 3,
   "metadata": {},
   "outputs": [
    {
     "ename": "TypeError",
     "evalue": "'int' object does not support item assignment",
     "output_type": "error",
     "traceback": [
      "\u001b[0;31m---------------------------------------------------------------------------\u001b[0m",
      "\u001b[0;31mTypeError\u001b[0m                                 Traceback (most recent call last)",
      "\u001b[0;32m<ipython-input-3-20b572396325>\u001b[0m in \u001b[0;36m<module>\u001b[0;34m()\u001b[0m\n\u001b[1;32m      1\u001b[0m \u001b[0mx\u001b[0m \u001b[0;34m=\u001b[0m \u001b[0;36m5\u001b[0m\u001b[0;34m\u001b[0m\u001b[0;34m\u001b[0m\u001b[0m\n\u001b[0;32m----> 2\u001b[0;31m \u001b[0mx\u001b[0m\u001b[0;34m[\u001b[0m\u001b[0;34m\"a\"\u001b[0m\u001b[0;34m]\u001b[0m \u001b[0;34m=\u001b[0m \u001b[0;34m[\u001b[0m\u001b[0;34m]\u001b[0m\u001b[0;34m\u001b[0m\u001b[0;34m\u001b[0m\u001b[0m\n\u001b[0m",
      "\u001b[0;31mTypeError\u001b[0m: 'int' object does not support item assignment"
     ]
    }
   ],
   "source": [
    "x = 5\n",
    "x[\"a\"] = []"
   ]
  },
  {
   "cell_type": "code",
   "execution_count": 25,
   "metadata": {},
   "outputs": [
    {
     "ename": "TypeError",
     "evalue": "'int' object does not support item assignment",
     "output_type": "error",
     "traceback": [
      "\u001b[0;31m---------------------------------------------------------------------------\u001b[0m",
      "\u001b[0;31mTypeError\u001b[0m                                 Traceback (most recent call last)",
      "\u001b[0;32m<ipython-input-25-754b549f5a3d>\u001b[0m in \u001b[0;36m<module>\u001b[0;34m()\u001b[0m\n\u001b[1;32m      1\u001b[0m \u001b[0mx\u001b[0m \u001b[0;34m=\u001b[0m \u001b[0;36m5\u001b[0m\u001b[0;34m\u001b[0m\u001b[0;34m\u001b[0m\u001b[0m\n\u001b[0;32m----> 2\u001b[0;31m \u001b[0mx\u001b[0m\u001b[0;34m[\u001b[0m\u001b[0;36m0\u001b[0m\u001b[0;34m]\u001b[0m \u001b[0;34m=\u001b[0m \u001b[0;34m[\u001b[0m\u001b[0;34m]\u001b[0m\u001b[0;34m\u001b[0m\u001b[0;34m\u001b[0m\u001b[0m\n\u001b[0m",
      "\u001b[0;31mTypeError\u001b[0m: 'int' object does not support item assignment"
     ]
    }
   ],
   "source": [
    "x = 5\n",
    "x[0] = []"
   ]
  },
  {
   "cell_type": "code",
   "execution_count": 26,
   "metadata": {},
   "outputs": [
    {
     "name": "stdout",
     "output_type": "stream",
     "text": [
      "5\n"
     ]
    }
   ],
   "source": [
    "print(x)"
   ]
  },
  {
   "cell_type": "code",
   "execution_count": 1,
   "metadata": {},
   "outputs": [
    {
     "ename": "SyntaxError",
     "evalue": "invalid syntax (<ipython-input-1-db53db3ed15b>, line 23)",
     "output_type": "error",
     "traceback": [
      "\u001b[0;36m  File \u001b[0;32m\"<ipython-input-1-db53db3ed15b>\"\u001b[0;36m, line \u001b[0;32m23\u001b[0m\n\u001b[0;31m    character[0] = the corresponding character in shifted_alphabet # Do I need another loop here?\u001b[0m\n\u001b[0m                                   ^\u001b[0m\n\u001b[0;31mSyntaxError\u001b[0m\u001b[0;31m:\u001b[0m invalid syntax\n"
     ]
    }
   ],
   "source": [
    "from collections import deque\n",
    "import string\n",
    "import copy\n",
    " \n",
    "def encrypt(text,shift_variance):\n",
    "    '''\n",
    "    INPUT: text as a string and an integer for the shift value.\n",
    "    OUTPUT: The shifted text after being run through the Caesar cipher.\n",
    "    ''' \n",
    "    original = string.ascii_lowercase # Initializing alphabet variable\n",
    "    original = deque(list(original)) # Turning the original alphabet into a list\n",
    "    shifted = original.copy() # Assigning new variable to copy of original alphabet\n",
    "    shifted.rotate(shift_variance) # Rotating new shifted alphabet \n",
    " \n",
    "    # BEGIN for loop:\n",
    "    # text = list(text) # Convert text to string\n",
    "    print(text) # Confirmation of conversion operation\n",
    "    # scrambled_text =[] # Initializing output variable \n",
    "    for index, value in enumerate(shifted):\n",
    "        # for variable, char in enumerate(shifted):\n",
    "        print(f\"{index} => {value}\")   \n",
    "    for index, character in enumerate(text):\n",
    "        character[0] = the corresponding character in shifted_alphabet # Do I need another loop here?\n",
    "        print(character)\n",
    "    pass"
   ]
  },
  {
   "cell_type": "code",
   "execution_count": 2,
   "metadata": {},
   "outputs": [
    {
     "ename": "NameError",
     "evalue": "name 'encrypt' is not defined",
     "output_type": "error",
     "traceback": [
      "\u001b[0;31m---------------------------------------------------------------------------\u001b[0m",
      "\u001b[0;31mNameError\u001b[0m                                 Traceback (most recent call last)",
      "\u001b[0;32m<ipython-input-2-83dd904990e0>\u001b[0m in \u001b[0;36m<module>\u001b[0;34m()\u001b[0m\n\u001b[0;32m----> 1\u001b[0;31m \u001b[0mencrypt\u001b[0m\u001b[0;34m(\u001b[0m\u001b[0;34m\"Hello World\"\u001b[0m\u001b[0;34m,\u001b[0m\u001b[0;36m3\u001b[0m\u001b[0;34m)\u001b[0m\u001b[0;34m\u001b[0m\u001b[0;34m\u001b[0m\u001b[0m\n\u001b[0m",
      "\u001b[0;31mNameError\u001b[0m: name 'encrypt' is not defined"
     ]
    }
   ],
   "source": [
    "encrypt(\"Hello World\",3)"
   ]
  },
  {
   "cell_type": "markdown",
   "metadata": {},
   "source": [
    "## Daniel's latest attempted based on @nilamo on Python forum homework section at this link: https://python-forum.io/Thread-Caesar-cipher?pid=62464#pid62464"
   ]
  },
  {
   "cell_type": "code",
   "execution_count": 28,
   "metadata": {},
   "outputs": [],
   "source": [
    "from collections import deque\n",
    "import string\n",
    "import copy\n",
    " \n",
    "def encrypt(text,shift_variance):\n",
    "    '''\n",
    "    INPUT: text as a string and an integer for the shift value.\n",
    "    OUTPUT: The shifted text after being run through the Caesar cipher.\n",
    "    ''' \n",
    "    original = string.ascii_lowercase # Initializing alphabet variable\n",
    "    original = deque(list(original)) # Turning the original alphabet into a list\n",
    "    shifted = original.copy() # Assigning new variable to copy of original alphabet\n",
    "    shifted.rotate(shift_variance) # Rotating new shifted alphabet \n",
    "    original = ''.join(original) # Re-concatenating split list (alphabet)\n",
    "    shifted = ''.join(shifted)\n",
    "    text = list(text) # Convert text to list\n",
    "    print(text)\n",
    "    scrambled_text =[] # Initializing output variable \n",
    "    for index, character in enumerate(text):\n",
    "        lookup_index = original.find(character)\n",
    "        new_character = shifted[lookup_index]\n",
    "        scrambled_text.append(new_character)\n",
    "    text = ''.join(text)\n",
    "    scrambled_text = ''.join(scrambled_text)\n",
    "    print(text)\n",
    "    print(scrambled_text)    "
   ]
  },
  {
   "cell_type": "code",
   "execution_count": 29,
   "metadata": {},
   "outputs": [
    {
     "name": "stdout",
     "output_type": "stream",
     "text": [
      "['H', 'e', 'l', 'l', 'o', ' ', 'W', 'o', 'r', 'l', 'd', '!', ' ', 'F', 'e', 'e', 'd', ' ', 't', 'h', 'e', ' ', 'b', 'i', 'r', 'd', 's', ' ', 'a', 'n', 'd', ' ', 'r', 'e', 'l', 'e', 'a', 's', 'e', ' ', 't', 'h', 'e', ' ', 'p', 'i', 'g', 'g', 'i', 'e', 's', '!']\n",
      "Hello World! Feed the birds and release the piggies!\n",
      "ydkknyynqkcyyyddcysgdyahqcryzmcyqdkdzrdysgdyohffhdry\n"
     ]
    }
   ],
   "source": [
    "encrypt(\"Hello World! Feed the birds and release the piggies!\",1)\n"
   ]
  },
  {
   "cell_type": "markdown",
   "metadata": {},
   "source": [
    "## Fresh attempt based on @stullis's suggestion to account for 'w' characters"
   ]
  },
  {
   "cell_type": "code",
   "execution_count": 36,
   "metadata": {},
   "outputs": [],
   "source": [
    "from collections import deque\n",
    "import string\n",
    "import copy\n",
    " \n",
    "def encrypt(text,shift_variance):\n",
    "    '''\n",
    "    INPUT: text as a string and an integer for the shift value.\n",
    "    OUTPUT: The shifted text after being run through the Caesar cipher.\n",
    "    ''' \n",
    "    original = string.ascii_lowercase # Initializing alphabet variable\n",
    "    original = deque(list(original)) # Turning the original alphabet into a list\n",
    "    shifted = original.copy() # Assigning new variable to copy of original alphabet\n",
    "    shifted.rotate(shift_variance) # Rotating new shifted alphabet \n",
    "    original = ''.join(original) # Re-concatenating split list (alphabet)\n",
    "    shifted = ''.join(shifted)\n",
    "    text = text.split() # Convert text to list of words\n",
    "    scrambled_text =[] # Initializing output variable \n",
    "    for index, character in enumerate(text[:][:]):\n",
    "        lookup_index = original.find(character)\n",
    "        new_character = shifted[lookup_index]\n",
    "        scrambled_text.append(new_character)\n",
    "    text = ''.join(text)\n",
    "    scrambled_text = ' '.join(scrambled_text)\n",
    "    print(text)\n",
    "    print(scrambled_text)    "
   ]
  },
  {
   "cell_type": "code",
   "execution_count": 37,
   "metadata": {},
   "outputs": [
    {
     "name": "stdout",
     "output_type": "stream",
     "text": [
      "HelloWorld!Feedthebirdsandreleasethepiggies!\n",
      "y y y y y y y y y\n"
     ]
    }
   ],
   "source": [
    "encrypt(\"Hello World! Feed the birds and release the piggies!\",1)\n"
   ]
  },
  {
   "cell_type": "code",
   "execution_count": 14,
   "metadata": {},
   "outputs": [],
   "source": [
    "string_one = \"Hello World! Feed the birds and release the piggies!\""
   ]
  },
  {
   "cell_type": "code",
   "execution_count": 15,
   "metadata": {},
   "outputs": [],
   "source": [
    "string_one = string_one.split()"
   ]
  },
  {
   "cell_type": "code",
   "execution_count": 17,
   "metadata": {},
   "outputs": [
    {
     "name": "stdout",
     "output_type": "stream",
     "text": [
      "['Hello', 'World!', 'Feed', 'the', 'birds', 'and', 'release', 'the', 'piggies!']\n"
     ]
    }
   ],
   "source": [
    "print(string_one[:][:])"
   ]
  },
  {
   "cell_type": "code",
   "execution_count": null,
   "metadata": {},
   "outputs": [],
   "source": []
  },
  {
   "cell_type": "code",
   "execution_count": null,
   "metadata": {},
   "outputs": [],
   "source": []
  },
  {
   "cell_type": "code",
   "execution_count": null,
   "metadata": {},
   "outputs": [],
   "source": []
  },
  {
   "cell_type": "code",
   "execution_count": null,
   "metadata": {},
   "outputs": [],
   "source": []
  },
  {
   "cell_type": "code",
   "execution_count": null,
   "metadata": {},
   "outputs": [],
   "source": []
  },
  {
   "cell_type": "code",
   "execution_count": null,
   "metadata": {},
   "outputs": [],
   "source": []
  },
  {
   "cell_type": "code",
   "execution_count": 19,
   "metadata": {},
   "outputs": [
    {
     "name": "stdout",
     "output_type": "stream",
     "text": [
      "abcdefghijklmnopqrstuvwxyz\n",
      "nopqrstuvwxyzabcdefghijklm\n",
      "None\n"
     ]
    }
   ],
   "source": [
    "encrypt('Feed the birds and deploy the viscious little piggies!', 13)"
   ]
  },
  {
   "cell_type": "markdown",
   "metadata": {},
   "source": [
    "** An example input and output: **"
   ]
  },
  {
   "cell_type": "code",
   "execution_count": 40,
   "metadata": {},
   "outputs": [
    {
     "data": {
      "text/plain": [
       "'trg guvf zrffntr gb gur znva freire'"
      ]
     },
     "execution_count": 40,
     "metadata": {},
     "output_type": "execute_result"
    }
   ],
   "source": [
    "encrypt('Get this message to the main server',13)"
   ]
  },
  {
   "cell_type": "markdown",
   "metadata": {},
   "source": [
    "## Decryption\n",
    "\n",
    "Now create a new function that will \"decrypt\" a shifted message. It should basically do the reverse of the encryption function. The process will be very similar as your previous function, but the alphabets will be switched."
   ]
  },
  {
   "cell_type": "code",
   "execution_count": 2,
   "metadata": {
    "collapsed": true
   },
   "outputs": [],
   "source": [
    "def decrypt(text,shift):\n",
    "    '''\n",
    "    INPUT: A shifted message and the integer shift value\n",
    "    OUTPUT: The plain text original message.\n",
    "    '''\n",
    "    \n",
    "    # Create a normal plain alphabet\n",
    "    \n",
    "    # Create a shifted version of this alphabet with the shift value.\n",
    "    \n",
    "    # Use a for loop to go through each character in the encrypted message.\n",
    "    # Then figure out its index match in the plain alphabet and replace.\n",
    "    # It might be helpful to create an output variable to hold the new message.\n",
    "    \n",
    "    # Keep in mind you may want to skip punctuation with an if statement.\n",
    "    \n",
    "    # Return the original message. Use ''.join() method \n",
    "    # if you still have it as a list.\n",
    "    \n",
    "    pass"
   ]
  },
  {
   "cell_type": "markdown",
   "metadata": {},
   "source": [
    "** Here is an example output: **"
   ]
  },
  {
   "cell_type": "code",
   "execution_count": 49,
   "metadata": {},
   "outputs": [
    {
     "data": {
      "text/plain": [
       "'get this message to the main server'"
      ]
     },
     "execution_count": 49,
     "metadata": {},
     "output_type": "execute_result"
    }
   ],
   "source": [
    "decrypt('trg guvf zrffntr gb gur znva freire',13)"
   ]
  },
  {
   "cell_type": "markdown",
   "metadata": {},
   "source": [
    "## Brute Force Method\n",
    "\n",
    "There is no gaurantee that the person on the other end will know the correct shift value. In that case we need a function that can brute force through every possible shift value and print out each outcome. Then a user could quickly read through the printed messages and find the one that is readable.\n",
    "\n",
    "** In case you aren't given the shift factor number, create a function that prints out every possible shifted string given an encrypted string. **"
   ]
  },
  {
   "cell_type": "code",
   "execution_count": 3,
   "metadata": {
    "collapsed": true
   },
   "outputs": [],
   "source": [
    "def brute_force(message):\n",
    "    \"\"\"\n",
    "    INPUT: A shifted message\n",
    "    OUTPUT: Prints out every possible shifted message. \n",
    "            One of the printed outputs should be readable.\n",
    "    \"\"\"\n",
    "    \n",
    "    # Use your previous decrypt() method and call it for every possible shift\n",
    "    # using a For Loop.\n",
    "    \n",
    "    # Print out the result of each shift.\n",
    "    pass"
   ]
  },
  {
   "cell_type": "markdown",
   "metadata": {},
   "source": [
    "** An example output: **"
   ]
  },
  {
   "cell_type": "code",
   "execution_count": 56,
   "metadata": {},
   "outputs": [
    {
     "name": "stdout",
     "output_type": "stream",
     "text": [
      "Using shift value of 0\n",
      "trg guvf zrffntr gb gur znva freire\n",
      "\n",
      "\n",
      "Using shift value of 1\n",
      "sqf ftue yqeemsq fa ftq ymuz eqdhqd\n",
      "\n",
      "\n",
      "Using shift value of 2\n",
      "rpe estd xpddlrp ez esp xlty dpcgpc\n",
      "\n",
      "\n",
      "Using shift value of 3\n",
      "qod drsc wocckqo dy dro wksx cobfob\n",
      "\n",
      "\n",
      "Using shift value of 4\n",
      "pnc cqrb vnbbjpn cx cqn vjrw bnaena\n",
      "\n",
      "\n",
      "Using shift value of 5\n",
      "omb bpqa umaaiom bw bpm uiqv amzdmz\n",
      "\n",
      "\n",
      "Using shift value of 6\n",
      "nla aopz tlzzhnl av aol thpu zlycly\n",
      "\n",
      "\n",
      "Using shift value of 7\n",
      "mkz znoy skyygmk zu znk sgot ykxbkx\n",
      "\n",
      "\n",
      "Using shift value of 8\n",
      "ljy ymnx rjxxflj yt ymj rfns xjwajw\n",
      "\n",
      "\n",
      "Using shift value of 9\n",
      "kix xlmw qiwweki xs xli qemr wivziv\n",
      "\n",
      "\n",
      "Using shift value of 10\n",
      "jhw wklv phvvdjh wr wkh pdlq vhuyhu\n",
      "\n",
      "\n",
      "Using shift value of 11\n",
      "igv vjku oguucig vq vjg ockp ugtxgt\n",
      "\n",
      "\n",
      "Using shift value of 12\n",
      "hfu uijt nfttbhf up uif nbjo tfswfs\n",
      "\n",
      "\n",
      "Using shift value of 13\n",
      "get this message to the main server\n",
      "\n",
      "\n",
      "Using shift value of 14\n",
      "fds sghr ldrrzfd sn sgd lzhm rdqudq\n",
      "\n",
      "\n",
      "Using shift value of 15\n",
      "ecr rfgq kcqqyec rm rfc kygl qcptcp\n",
      "\n",
      "\n",
      "Using shift value of 16\n",
      "dbq qefp jbppxdb ql qeb jxfk pbosbo\n",
      "\n",
      "\n",
      "Using shift value of 17\n",
      "cap pdeo iaoowca pk pda iwej oanran\n",
      "\n",
      "\n",
      "Using shift value of 18\n",
      "bzo ocdn hznnvbz oj ocz hvdi nzmqzm\n",
      "\n",
      "\n",
      "Using shift value of 19\n",
      "ayn nbcm gymmuay ni nby guch mylpyl\n",
      "\n",
      "\n",
      "Using shift value of 20\n",
      "zxm mabl fxlltzx mh max ftbg lxkoxk\n",
      "\n",
      "\n",
      "Using shift value of 21\n",
      "ywl lzak ewkksyw lg lzw esaf kwjnwj\n",
      "\n",
      "\n",
      "Using shift value of 22\n",
      "xvk kyzj dvjjrxv kf kyv drze jvimvi\n",
      "\n",
      "\n",
      "Using shift value of 23\n",
      "wuj jxyi cuiiqwu je jxu cqyd iuhluh\n",
      "\n",
      "\n",
      "Using shift value of 24\n",
      "vti iwxh bthhpvt id iwt bpxc htgktg\n",
      "\n",
      "\n",
      "Using shift value of 25\n",
      "ush hvwg asggous hc hvs aowb gsfjsf\n",
      "\n",
      "\n"
     ]
    }
   ],
   "source": [
    "brute_force('trg guvf zrffntr gb gur znva freire')"
   ]
  }
 ],
 "metadata": {
  "kernelspec": {
   "display_name": "Python 3",
   "language": "python",
   "name": "python3"
  },
  "language_info": {
   "codemirror_mode": {
    "name": "ipython",
    "version": 3
   },
   "file_extension": ".py",
   "mimetype": "text/x-python",
   "name": "python",
   "nbconvert_exporter": "python",
   "pygments_lexer": "ipython3",
   "version": "3.7.1"
  }
 },
 "nbformat": 4,
 "nbformat_minor": 2
}
