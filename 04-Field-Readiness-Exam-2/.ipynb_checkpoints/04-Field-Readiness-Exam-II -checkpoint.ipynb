{
 "cells": [
  {
   "cell_type": "markdown",
   "metadata": {},
   "source": [
    "# Field Readiness Exam II\n",
    "\n",
    "**Welcome to your second field readiness exam recruit! Let's quickly check your understanding on loops, python operators, functions like range and input, and list comprehensions.**\n",
    "\n",
    "**Complete the tasks below:**"
   ]
  },
  {
   "cell_type": "markdown",
   "metadata": {
    "collapsed": true
   },
   "source": [
    "### Task 1\n",
    "** Use a for loop and indexing to print out only the words that start with an s in this sentence: ** \n",
    "\n",
    "    \"Secret agents are super good at staying hidden.\"\n",
    "\n",
    "**Hint: the .split() method may be useful here! **"
   ]
  },
  {
   "cell_type": "code",
   "execution_count": 6,
   "metadata": {},
   "outputs": [],
   "source": [
    "mystring = \"Secret agents are super good at staying hidden.\""
   ]
  },
  {
   "cell_type": "code",
   "execution_count": 2,
   "metadata": {},
   "outputs": [
    {
     "name": "stdout",
     "output_type": "stream",
     "text": [
      "Secret\n",
      "agents\n",
      "are\n",
      "super\n",
      "good\n",
      "at\n",
      "staying\n",
      "hidden.\n"
     ]
    }
   ],
   "source": [
    "secondstring = mystring.split()\n",
    "for word in secondstring:\n",
    "    if secondstring[0] == 'S' or 's':\n",
    "        print(word)"
   ]
  },
  {
   "cell_type": "code",
   "execution_count": 3,
   "metadata": {},
   "outputs": [
    {
     "ename": "AttributeError",
     "evalue": "'list' object has no attribute 'startswith'",
     "output_type": "error",
     "traceback": [
      "\u001b[0;31m---------------------------------------------------------------------------\u001b[0m",
      "\u001b[0;31mAttributeError\u001b[0m                            Traceback (most recent call last)",
      "\u001b[0;32m<ipython-input-3-6eba6228d5b9>\u001b[0m in \u001b[0;36m<module>\u001b[0;34m()\u001b[0m\n\u001b[1;32m      4\u001b[0m \u001b[0;32mfor\u001b[0m \u001b[0mword\u001b[0m \u001b[0;32min\u001b[0m \u001b[0msecondstring\u001b[0m\u001b[0;34m:\u001b[0m\u001b[0;34m\u001b[0m\u001b[0m\n\u001b[1;32m      5\u001b[0m     \u001b[0mdesired_character\u001b[0m \u001b[0;34m=\u001b[0m \u001b[0;34m(\u001b[0m\u001b[0;34m's'\u001b[0m\u001b[0;34m)\u001b[0m\u001b[0;34m\u001b[0m\u001b[0m\n\u001b[0;32m----> 6\u001b[0;31m     \u001b[0;32mif\u001b[0m \u001b[0msecondstring\u001b[0m\u001b[0;34m.\u001b[0m\u001b[0mstartswith\u001b[0m\u001b[0;34m(\u001b[0m\u001b[0mdesired_character\u001b[0m\u001b[0;34m[\u001b[0m\u001b[0;36m0\u001b[0m\u001b[0;34m]\u001b[0m\u001b[0;34m)\u001b[0m\u001b[0;34m:\u001b[0m\u001b[0;34m\u001b[0m\u001b[0m\n\u001b[0m\u001b[1;32m      7\u001b[0m         \u001b[0mprint\u001b[0m\u001b[0;34m(\u001b[0m\u001b[0mword\u001b[0m\u001b[0;34m)\u001b[0m\u001b[0;34m\u001b[0m\u001b[0m\n\u001b[1;32m      8\u001b[0m     \u001b[0;32mbreak\u001b[0m\u001b[0;34m\u001b[0m\u001b[0m\n",
      "\u001b[0;31mAttributeError\u001b[0m: 'list' object has no attribute 'startswith'"
     ]
    }
   ],
   "source": [
    "mystring = \"Secret agents are super good at staying hidden.\"\n",
    "secondstring = mystring.split()\n",
    "# desired_characters = ('s')\n",
    "for word in secondstring:\n",
    "    desired_character = ('s')\n",
    "    if secondstring.startswith(desired_character[0]):\n",
    "        print(word)\n",
    "    break"
   ]
  },
  {
   "cell_type": "code",
   "execution_count": 11,
   "metadata": {},
   "outputs": [],
   "source": [
    "secondstring = mystring.split()\n",
    "for word in secondstring:\n",
    "    if secondstring[0] == ('S','s'):\n",
    "        print(word)\n",
    "    break"
   ]
  },
  {
   "cell_type": "markdown",
   "metadata": {},
   "source": [
    "# Solution to Task #1\n",
    "What follows if from 'buran' (user) on python-forum.org: https://python-forum.io/Thread-Using-for-loops-and-indexing-to-read-and-string-and-print-only-select-words"
   ]
  },
  {
   "cell_type": "code",
   "execution_count": null,
   "metadata": {},
   "outputs": [],
   "source": [
    "words = mystring.split()\n",
    "desired_characters = ('s', 'S')\n",
    "for word in words:\n",
    "    if word.startswith(desired_characters):\n",
    "        print(word)"
   ]
  },
  {
   "cell_type": "markdown",
   "metadata": {},
   "source": [
    "# My personal modifications to buran's script:"
   ]
  },
  {
   "cell_type": "code",
   "execution_count": 19,
   "metadata": {},
   "outputs": [
    {
     "name": "stdout",
     "output_type": "stream",
     "text": [
      "Secret\n",
      "super\n",
      "staying\n"
     ]
    }
   ],
   "source": [
    "list_of_words = mystring.split()\n",
    "for word in list_of_words:\n",
    "    if word.startswith(('s','S')):\n",
    "        print(word)"
   ]
  },
  {
   "cell_type": "markdown",
   "metadata": {},
   "source": [
    "### Task 2"
   ]
  },
  {
   "cell_type": "code",
   "execution_count": null,
   "metadata": {},
   "outputs": [],
   "source": []
  },
  {
   "cell_type": "markdown",
   "metadata": {},
   "source": [
    "** Using the same string as previously used:**\n",
    "\n",
    "    \"Secret agents are super good at staying hidden.\"\n",
    "\n",
    "** Use a for loop to only print out the words with an even number of characters/letters. **"
   ]
  },
  {
   "cell_type": "markdown",
   "metadata": {},
   "source": [
    "### Here is my feeble attempt at Task 2:"
   ]
  },
  {
   "cell_type": "code",
   "execution_count": 14,
   "metadata": {},
   "outputs": [
    {
     "name": "stdout",
     "output_type": "stream",
     "text": [
      "['Secret', 'agents', 'are', 'super', 'good', 'at', 'staying', 'hidden.']\n",
      "Secret\n",
      "agents\n",
      "good\n",
      "at\n"
     ]
    }
   ],
   "source": [
    "mystring = \"Secret agents are super good at staying hidden.\".split()\n",
    "print(mystring)\n",
    "for word in mystring:    \n",
    "    if len(word) % 2 == 0:\n",
    "        print(word)"
   ]
  },
  {
   "cell_type": "code",
   "execution_count": null,
   "metadata": {},
   "outputs": [],
   "source": []
  },
  {
   "cell_type": "markdown",
   "metadata": {},
   "source": [
    "## Here is Jose's expected output for task 2:"
   ]
  },
  {
   "cell_type": "markdown",
   "metadata": {},
   "source": [
    "Secret\n",
    "agents\n",
    "good\n",
    "at"
   ]
  },
  {
   "cell_type": "markdown",
   "metadata": {},
   "source": [
    "### Task 3\n",
    "\n",
    "**Use a list comprehension to create a list of every first letter in this string:**\n",
    "\n",
    "    mystring = \"Secret agents are super good at staying hidden.\""
   ]
  },
  {
   "cell_type": "markdown",
   "metadata": {},
   "source": [
    "# Here is my first attempt at Task 3:"
   ]
  },
  {
   "cell_type": "code",
   "execution_count": 54,
   "metadata": {},
   "outputs": [
    {
     "name": "stdout",
     "output_type": "stream",
     "text": [
      "['S']\n",
      "['a']\n",
      "['a']\n",
      "['s']\n",
      "['g']\n",
      "['a']\n",
      "['s']\n",
      "['h']\n"
     ]
    }
   ],
   "source": [
    "mystring = \"Secret agents are super good at staying hidden.\"\n",
    "words = mystring.split()\n",
    "for char in words:\n",
    "    first_char_list = char[0]\n",
    "    print(list(first_char_list))"
   ]
  },
  {
   "cell_type": "code",
   "execution_count": 58,
   "metadata": {},
   "outputs": [
    {
     "name": "stdout",
     "output_type": "stream",
     "text": [
      "['S', 'a', 'a', 's', 'g', 'a', 's', 'h']\n"
     ]
    }
   ],
   "source": [
    "mystring = \"Secret agents are super good at staying hidden.\"\n",
    "words = mystring.split()\n",
    "first_char_list = []\n",
    "for char in words:\n",
    "    first_char_list.append(char[0])\n",
    "print(first_char_list)"
   ]
  },
  {
   "cell_type": "code",
   "execution_count": 11,
   "metadata": {},
   "outputs": [
    {
     "data": {
      "text/plain": [
       "['S', 'a', 'a', 's', 'g', 'a', 's', 'h']"
      ]
     },
     "execution_count": 11,
     "metadata": {},
     "output_type": "execute_result"
    }
   ],
   "source": [
    "# Code Here"
   ]
  },
  {
   "cell_type": "markdown",
   "metadata": {},
   "source": [
    "### Task 4\n",
    "\n",
    "**Use list comprehension to create a list of all the even numbers from 0 to 10.**"
   ]
  },
  {
   "cell_type": "markdown",
   "metadata": {},
   "source": [
    "### Daniel's first attempt at task #4:"
   ]
  },
  {
   "cell_type": "code",
   "execution_count": 70,
   "metadata": {},
   "outputs": [
    {
     "name": "stdout",
     "output_type": "stream",
     "text": [
      "[0, 2, 4, 6, 8, 10]\n"
     ]
    }
   ],
   "source": [
    "even_list= []\n",
    "for position in range(0,11,2):\n",
    "    even_list.append(position)\n",
    "print(even_list)    "
   ]
  },
  {
   "cell_type": "code",
   "execution_count": 13,
   "metadata": {},
   "outputs": [
    {
     "data": {
      "text/plain": [
       "[0, 2, 4, 6, 8, 10]"
      ]
     },
     "execution_count": 13,
     "metadata": {},
     "output_type": "execute_result"
    }
   ],
   "source": [
    "# Code Here"
   ]
  },
  {
   "cell_type": "markdown",
   "metadata": {},
   "source": [
    "### Task 5\n",
    "\n",
    "**Use the range function to create a list of all the even numbers from 0 to 10.**"
   ]
  },
  {
   "cell_type": "markdown",
   "metadata": {},
   "source": [
    "### (ditto)"
   ]
  },
  {
   "cell_type": "code",
   "execution_count": 71,
   "metadata": {},
   "outputs": [
    {
     "data": {
      "text/plain": [
       "[0, 2, 4, 6, 8, 10]"
      ]
     },
     "execution_count": 71,
     "metadata": {},
     "output_type": "execute_result"
    }
   ],
   "source": []
  },
  {
   "cell_type": "markdown",
   "metadata": {},
   "source": [
    "### Task 6\n",
    "\n",
    "** Create a for loop that uses the random library to create a list of 10 random numbers.**"
   ]
  },
  {
   "cell_type": "markdown",
   "metadata": {
    "collapsed": true
   },
   "source": [
    "## Daniel's first attempt at Task #6:"
   ]
  },
  {
   "cell_type": "code",
   "execution_count": 110,
   "metadata": {},
   "outputs": [
    {
     "name": "stdout",
     "output_type": "stream",
     "text": [
      "[33638, 21461, 15003, 36337, 27768, 3263, 48477, 639, 36789, 10049]\n"
     ]
    }
   ],
   "source": [
    "from random import randint\n",
    "mylist = []\n",
    "for num in range(0,10):\n",
    "    mylist.append(randint(0,50000))\n",
    "print(mylist)    "
   ]
  },
  {
   "cell_type": "markdown",
   "metadata": {},
   "source": [
    "### (I leveraged this stackoverflow answer: https://stackoverflow.com/a/16655123 )"
   ]
  },
  {
   "cell_type": "code",
   "execution_count": null,
   "metadata": {},
   "outputs": [],
   "source": []
  },
  {
   "cell_type": "code",
   "execution_count": 21,
   "metadata": {},
   "outputs": [
    {
     "name": "stdout",
     "output_type": "stream",
     "text": [
      "[95, 69, 33, 40, 92, 65, 9, 69, 91, 94, 85]\n"
     ]
    }
   ],
   "source": [
    "# Code Here"
   ]
  },
  {
   "cell_type": "markdown",
   "metadata": {},
   "source": [
    "### Task 7\n",
    "\n",
    "** Use list comprehension and the random library to create a list of 10 random numbers **"
   ]
  },
  {
   "cell_type": "markdown",
   "metadata": {},
   "source": [
    "### From Stack Overflow:  https://stackoverflow.com/a/20224166"
   ]
  },
  {
   "cell_type": "code",
   "execution_count": 101,
   "metadata": {},
   "outputs": [
    {
     "name": "stdout",
     "output_type": "stream",
     "text": [
      "[4, 4, 2, 0, 9, 5, 6, 5, 6, 5]\n"
     ]
    }
   ],
   "source": [
    "from random import randint\n",
    "x = [randint(0, 9) for p in range(0, 10)]\n",
    "print(x)"
   ]
  },
  {
   "cell_type": "code",
   "execution_count": 23,
   "metadata": {},
   "outputs": [
    {
     "data": {
      "text/plain": [
       "[60, 72, 40, 76, 18, 28, 82, 40, 61, 88, 24]"
      ]
     },
     "execution_count": 23,
     "metadata": {},
     "output_type": "execute_result"
    }
   ],
   "source": [
    "# Code Here"
   ]
  },
  {
   "cell_type": "markdown",
   "metadata": {},
   "source": [
    "### Task 8\n",
    "\n",
    "** Create a while loop that will ask the user to input an even number. It should keep repeating the request until an even integer is provided. You should only need to expect integers to be passed in, if the user provides a string or something else that can't be transformed to an integer with int(), then the loop should break with an error. **\n",
    "\n",
    "** Important things to keep in mind when working with while loops with the input() function:**\n",
    "* It's very easy to get stuck in an infinite loop, click on Kernel in the top toolbar and select Restart Kernel to fix this.\n",
    "* If you re-run a cell still waiting for an input() it will get stuck with In [*\\] , again select Restart Kernel to fix this."
   ]
  },
  {
   "cell_type": "markdown",
   "metadata": {},
   "source": [
    "### My attempt @ Task #8:"
   ]
  },
  {
   "cell_type": "code",
   "execution_count": 4,
   "metadata": {},
   "outputs": [
    {
     "name": "stdout",
     "output_type": "stream",
     "text": [
      "Please provide an even number: 123\n",
      "This is not an even number. Please try again.\n",
      "Please provide an even number: 599\n",
      "This is not an even number. Please try again.\n",
      "Please provide an even number: 588\n",
      "Hooray! You entered an even number. Script finished. Thank you!\n"
     ]
    }
   ],
   "source": [
    "saved_input = 0\n",
    "while True:\n",
    "    saved_input = int(input(\"Please provide an even number: \"))\n",
    "    '''if isinstance(saved_input, str):\n",
    "        print(\"No words. Please give me a number.\")'''\n",
    "    if saved_input % 2 != 0:    \n",
    "        print(\"This is not an even number. Please try again.\")        \n",
    "    elif saved_input % 2 == 0:\n",
    "        print(\"Hooray! You entered an even number. Script finished. Thank you!\")      \n",
    "        break"
   ]
  },
  {
   "cell_type": "code",
   "execution_count": null,
   "metadata": {},
   "outputs": [],
   "source": []
  },
  {
   "cell_type": "code",
   "execution_count": null,
   "metadata": {},
   "outputs": [],
   "source": []
  },
  {
   "cell_type": "code",
   "execution_count": null,
   "metadata": {},
   "outputs": [],
   "source": []
  },
  {
   "cell_type": "code",
   "execution_count": 2,
   "metadata": {},
   "outputs": [
    {
     "name": "stdout",
     "output_type": "stream",
     "text": [
      "Please provide an even number: 3\n",
      "Please provide an even number: 5\n",
      "Please provide an even number: 7\n",
      "Please provide an even number: 2\n",
      "Thank you\n"
     ]
    }
   ],
   "source": [
    "# Code Here"
   ]
  },
  {
   "cell_type": "markdown",
   "metadata": {
    "collapsed": true
   },
   "source": [
    "Best of luck!"
   ]
  }
 ],
 "metadata": {
  "kernelspec": {
   "display_name": "Python 3",
   "language": "python",
   "name": "python3"
  },
  "language_info": {
   "codemirror_mode": {
    "name": "ipython",
    "version": 3
   },
   "file_extension": ".py",
   "mimetype": "text/x-python",
   "name": "python",
   "nbconvert_exporter": "python",
   "pygments_lexer": "ipython3",
   "version": "3.7.0"
  }
 },
 "nbformat": 4,
 "nbformat_minor": 2
}
